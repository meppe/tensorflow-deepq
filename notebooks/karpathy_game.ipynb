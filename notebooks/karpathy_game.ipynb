{
 "cells": [
  {
   "cell_type": "code",
   "execution_count": 24,
   "metadata": {
    "collapsed": false
   },
   "outputs": [
    {
     "name": "stdout",
     "output_type": "stream",
     "text": [
      "The autoreload extension is already loaded. To reload it, use:\n",
      "  %reload_ext autoreload\n"
     ]
    }
   ],
   "source": [
    "%load_ext autoreload\n",
    "%autoreload 2\n",
    "%matplotlib inline"
   ]
  },
  {
   "cell_type": "code",
   "execution_count": 10,
   "metadata": {
    "collapsed": false
   },
   "outputs": [],
   "source": [
    "import numpy as np\n",
    "import tempfile\n",
    "import tensorflow as tf\n",
    "\n",
    "from tf_rl.controller import DiscreteDeepQ, HumanController\n",
    "from tf_rl.simulation import KarpathyGame\n",
    "from tf_rl import simulate\n",
    "from tf_rl.models import MLP\n",
    "\n",
    "from __future__ import print_function"
   ]
  },
  {
   "cell_type": "code",
   "execution_count": 11,
   "metadata": {
    "collapsed": false
   },
   "outputs": [
    {
     "name": "stdout",
     "output_type": "stream",
     "text": [
      "/tmp/tmpBh57tz\n"
     ]
    }
   ],
   "source": [
    "LOG_DIR = tempfile.mkdtemp()\n",
    "print(LOG_DIR)"
   ]
  },
  {
   "cell_type": "code",
   "execution_count": 12,
   "metadata": {
    "collapsed": false
   },
   "outputs": [],
   "source": [
    "current_settings = {\n",
    "    'objects': [\n",
    "        'friend',\n",
    "        'enemy',\n",
    "    ],\n",
    "    'colors': {\n",
    "        'hero':   'yellow',\n",
    "        'friend': 'green',\n",
    "        'enemy':  'red',\n",
    "    },\n",
    "    'object_reward': {\n",
    "        'friend': 0.1,\n",
    "        'enemy': -0.1,\n",
    "    },\n",
    "    'hero_bounces_off_walls': False,\n",
    "    'world_size': (700,500),\n",
    "    'hero_initial_position': [400, 300],\n",
    "    'hero_initial_speed':    [0,   0],\n",
    "    \"maximum_speed\":         [50, 50],\n",
    "    \"object_radius\": 10.0,\n",
    "    \"num_objects\": {\n",
    "        \"friend\" : 25,\n",
    "        \"enemy\" :  25,\n",
    "    },\n",
    "    \"num_observation_lines\" : 32,\n",
    "    \"observation_line_length\": 120.,\n",
    "    \"tolerable_distance_to_wall\": 50,\n",
    "    \"wall_distance_penalty\":  -0.0,\n",
    "    \"delta_v\": 50\n",
    "}"
   ]
  },
  {
   "cell_type": "code",
   "execution_count": 13,
   "metadata": {
    "collapsed": false
   },
   "outputs": [],
   "source": [
    "# create the game simulator\n",
    "g = KarpathyGame(current_settings)"
   ]
  },
  {
   "cell_type": "code",
   "execution_count": 15,
   "metadata": {
    "collapsed": false
   },
   "outputs": [],
   "source": [
    "human_control = False\n",
    "\n",
    "if human_control:\n",
    "    # WSAD CONTROL (requires extra setup - check out README)\n",
    "    current_controller = HumanController({b\"w\": 3, b\"d\": 0, b\"s\": 1,b\"a\": 2,}) \n",
    "else:\n",
    "    # Tensorflow business - it is always good to reset a graph before creating a new controller.\n",
    "    tf.reset_default_graph()\n",
    "    session = tf.InteractiveSession()\n",
    "\n",
    "    # This little guy will let us run tensorboard\n",
    "    #      tensorboard --logdir [LOG_DIR]\n",
    "    journalist = tf.train.SummaryWriter(LOG_DIR)\n",
    "\n",
    "    # Brain maps from observation to Q values for different actions.\n",
    "    # Here it is a done using a multi layer perceptron with 2 hidden\n",
    "    # layers\n",
    "    brain = MLP([g.observation_size,], [200, 200, g.num_actions], \n",
    "                [tf.tanh, tf.tanh, tf.identity])\n",
    "    \n",
    "    # The optimizer to use. Here we use RMSProp as recommended\n",
    "    # by the publication\n",
    "    optimizer = tf.train.RMSPropOptimizer(learning_rate= 0.001, decay=0.9)\n",
    "\n",
    "    # DiscreteDeepQ object\n",
    "    current_controller = DiscreteDeepQ(g.observation_size, g.num_actions, brain, optimizer, session,\n",
    "                                       discount_rate=0.99, exploration_period=5000, max_experience=10000, \n",
    "                                       store_every_nth=4, train_every_nth=4,\n",
    "                                       summary_writer=journalist)\n",
    "    \n",
    "    session.run(tf.initialize_all_variables())\n",
    "    session.run(current_controller.target_network_update)\n",
    "    # graph was not available when journalist was created  \n",
    "    journalist.add_graph(session.graph_def)"
   ]
  },
  {
   "cell_type": "code",
   "execution_count": 16,
   "metadata": {
    "collapsed": false,
    "scrolled": false
   },
   "outputs": [],
   "source": [
    "FPS          = 30\n",
    "ACTION_EVERY = 3\n",
    "    \n",
    "fast_mode = True\n",
    "if fast_mode:\n",
    "    WAIT, VISUALIZE_EVERY = False, 20\n",
    "else:\n",
    "    WAIT, VISUALIZE_EVERY = True, 1\n",
    "\n",
    "    \n",
    "try:\n",
    "    with tf.device(\"/cpu:0\"):\n",
    "        simulate(simulation=g,\n",
    "                 controller=current_controller,\n",
    "                 fps=FPS,\n",
    "                 visualize_every=VISUALIZE_EVERY,\n",
    "                 action_every=ACTION_EVERY,\n",
    "                 wait=WAIT,\n",
    "                 disable_training=False,\n",
    "                 simulation_resolution=0.001,\n",
    "                 save_path=None,\n",
    "                 max_frames=10000)\n",
    "except KeyboardInterrupt:\n",
    "    print(\"Interrupted\")"
   ]
  },
  {
   "cell_type": "code",
   "execution_count": 17,
   "metadata": {
    "collapsed": true
   },
   "outputs": [],
   "source": [
    "session.run(current_controller.target_network_update)"
   ]
  },
  {
   "cell_type": "code",
   "execution_count": 18,
   "metadata": {
    "collapsed": false
   },
   "outputs": [
    {
     "data": {
      "text/plain": [
       "array([[ 0.01441706, -0.02520694, -0.07593913, ...,  0.06427404,\n",
       "        -0.02643774,  0.05855528],\n",
       "       [ 0.0770822 ,  0.05608216, -0.066397  , ...,  0.06312007,\n",
       "        -0.02823044, -0.06975941],\n",
       "       [-0.05859286,  0.04606444,  0.0600163 , ..., -0.01236301,\n",
       "        -0.06122607, -0.047261  ],\n",
       "       ..., \n",
       "       [-0.00445661, -0.00751907, -0.03780887, ..., -0.00894008,\n",
       "        -0.05594058,  0.04437672],\n",
       "       [-0.02915375,  0.04142714, -0.0417085 , ..., -0.066741  ,\n",
       "        -0.07433455, -0.06573054],\n",
       "       [ 0.05215149, -0.06628429,  0.06427625, ...,  0.00474106,\n",
       "         0.03213439, -0.04441135]], dtype=float32)"
      ]
     },
     "execution_count": 18,
     "metadata": {},
     "output_type": "execute_result"
    }
   ],
   "source": [
    "current_controller.q_network.input_layer.Ws[0].eval()"
   ]
  },
  {
   "cell_type": "code",
   "execution_count": 19,
   "metadata": {
    "collapsed": false
   },
   "outputs": [
    {
     "data": {
      "text/plain": [
       "array([[ 0.01441706, -0.02520694, -0.07593913, ...,  0.06427404,\n",
       "        -0.02643774,  0.05855528],\n",
       "       [ 0.0770822 ,  0.05608216, -0.066397  , ...,  0.06312007,\n",
       "        -0.02823044, -0.06975941],\n",
       "       [-0.05859286,  0.04606444,  0.0600163 , ..., -0.01236301,\n",
       "        -0.06122607, -0.047261  ],\n",
       "       ..., \n",
       "       [-0.00445661, -0.00751907, -0.03780887, ..., -0.00894008,\n",
       "        -0.05594058,  0.04437672],\n",
       "       [-0.02915375,  0.04142714, -0.0417085 , ..., -0.066741  ,\n",
       "        -0.07433455, -0.06573054],\n",
       "       [ 0.05215149, -0.06628429,  0.06427625, ...,  0.00474106,\n",
       "         0.03213439, -0.04441135]], dtype=float32)"
      ]
     },
     "execution_count": 19,
     "metadata": {},
     "output_type": "execute_result"
    }
   ],
   "source": [
    "current_controller.target_q_network.input_layer.Ws[0].eval()"
   ]
  },
  {
   "cell_type": "markdown",
   "metadata": {},
   "source": [
    "# Average Reward over time"
   ]
  },
  {
   "cell_type": "code",
   "execution_count": 20,
   "metadata": {
    "collapsed": false
   },
   "outputs": [
    {
     "data": {
      "image/png": "[encoded data removed]",
      "text/plain": [
       "<matplotlib.figure.Figure at 0x7faf683beb90>"
      ]
     },
     "metadata": {},
     "output_type": "display_data"
    }
   ],
   "source": [
    "g.plot_reward(smoothing=100)"
   ]
  },
  {
   "cell_type": "markdown",
   "metadata": {},
   "source": [
    "# Visualizing what the agent is seeing\n",
    "\n",
    "Starting with the ray pointing all the way right, we have one row per ray in clockwise order.\n",
    "The numbers for each ray are the following:\n",
    "- first three numbers are normalized distances to the closest visible (intersecting with the ray) object. If no object is visible then all of them are $1$. If there's many objects in sight, then only the closest one is visible. The numbers represent distance to friend, enemy and wall in order.\n",
    "- the last two numbers represent the speed of moving object (x and y components). Speed of wall is ... zero.\n",
    "\n",
    "Finally the last two numbers in the representation correspond to speed of the hero."
   ]
  },
  {
   "cell_type": "code",
   "execution_count": 8,
   "metadata": {
    "collapsed": false
   },
   "outputs": [
    {
     "name": "stdout",
     "output_type": "stream",
     "text": [
      "[[1.00 1.00 0.34 1.00 0.52 0.53]\n",
      " [1.00 1.00 0.34 1.00 0.52 0.53]\n",
      " [1.00 1.00 1.00 1.00 0.00 0.00]\n",
      " [1.00 1.00 1.00 1.00 0.00 0.00]\n",
      " [1.00 1.00 1.00 1.00 0.00 0.00]\n",
      " [1.00 1.00 1.00 1.00 0.00 0.00]\n",
      " [1.00 1.00 1.00 1.00 0.00 0.00]\n",
      " [0.69 1.00 1.00 1.00 0.50 0.18]\n",
      " [1.00 1.00 1.00 1.00 0.00 0.00]\n",
      " [1.00 1.00 1.00 1.00 0.00 0.00]\n",
      " [1.00 1.00 1.00 1.00 0.00 0.00]\n",
      " [1.00 1.00 1.00 1.00 0.00 0.00]\n",
      " [1.00 1.00 1.00 0.79 0.00 0.00]\n",
      " [1.00 1.00 1.00 0.68 0.00 0.00]\n",
      " [1.00 0.43 1.00 1.00 -0.00 0.54]\n",
      " [1.00 0.39 1.00 1.00 -0.00 0.54]\n",
      " [1.00 1.00 1.00 0.56 0.00 0.00]\n",
      " [1.00 1.00 1.00 0.57 0.00 0.00]\n",
      " [1.00 1.00 1.00 0.61 0.00 0.00]\n",
      " [1.00 1.00 1.00 0.68 0.00 0.00]\n",
      " [1.00 1.00 1.00 0.79 0.00 0.00]\n",
      " [1.00 1.00 1.00 1.00 0.00 0.00]\n",
      " [1.00 1.00 1.00 1.00 0.00 0.00]\n",
      " [1.00 1.00 1.00 1.00 0.00 0.00]\n",
      " [1.00 1.00 1.00 1.00 0.00 0.00]\n",
      " [1.00 1.00 1.00 1.00 0.00 0.00]\n",
      " [1.00 1.00 1.00 1.00 0.00 0.00]\n",
      " [1.00 1.00 1.00 1.00 0.00 0.00]\n",
      " [1.00 1.00 1.00 1.00 0.00 0.00]\n",
      " [1.00 1.00 1.00 1.00 0.00 0.00]\n",
      " [1.00 1.00 1.00 1.00 0.00 0.00]\n",
      " [0.69 1.00 1.00 1.00 0.81 0.33]]\n",
      "[-1.03 0.75]\n"
     ]
    },
    {
     "data": {
      "text/html": [
       "<?xml version=\"1.0\"?>\n",
       "\n",
       "<svg height=\"580\" width=\"720\" >\n",
       "\n",
       " <g style=\"fill-opacity:1.0; stroke:black;\n",
       "\n",
       "  stroke-width:1;\">\n",
       "\n",
       "  <rect x=\"10\" y=\"10\" height=\"500\"\n",
       "\n",
       "        width=\"700\" style=\"fill:none;\" />\n",
       "\n",
       "  <line x1=\"77\" y1=\"261\" x2=\"197\" y2=\"261\" />\n",
       "\n",
       "  <line x1=\"77\" y1=\"261\" x2=\"195\" y2=\"284\" />\n",
       "\n",
       "  <line x1=\"77\" y1=\"261\" x2=\"188\" y2=\"307\" />\n",
       "\n",
       "  <line x1=\"77\" y1=\"261\" x2=\"177\" y2=\"327\" />\n",
       "\n",
       "  <line x1=\"77\" y1=\"261\" x2=\"162\" y2=\"346\" />\n",
       "\n",
       "  <line x1=\"77\" y1=\"261\" x2=\"144\" y2=\"361\" />\n",
       "\n",
       "  <line x1=\"77\" y1=\"261\" x2=\"123\" y2=\"372\" />\n",
       "\n",
       "  <line x1=\"77\" y1=\"261\" x2=\"100\" y2=\"379\" />\n",
       "\n",
       "  <line x1=\"77\" y1=\"261\" x2=\"77\" y2=\"381\" />\n",
       "\n",
       "  <line x1=\"77\" y1=\"261\" x2=\"54\" y2=\"379\" />\n",
       "\n",
       "  <line x1=\"77\" y1=\"261\" x2=\"31\" y2=\"372\" />\n",
       "\n",
       "  <line x1=\"77\" y1=\"261\" x2=\"10\" y2=\"361\" />\n",
       "\n",
       "  <line x1=\"77\" y1=\"261\" x2=\"-7\" y2=\"346\" />\n",
       "\n",
       "  <line x1=\"77\" y1=\"261\" x2=\"-22\" y2=\"327\" />\n",
       "\n",
       "  <line x1=\"77\" y1=\"261\" x2=\"-33\" y2=\"307\" />\n",
       "\n",
       "  <line x1=\"77\" y1=\"261\" x2=\"-40\" y2=\"284\" />\n",
       "\n",
       "  <line x1=\"77\" y1=\"261\" x2=\"-42\" y2=\"261\" />\n",
       "\n",
       "  <line x1=\"77\" y1=\"261\" x2=\"-40\" y2=\"237\" />\n",
       "\n",
       "  <line x1=\"77\" y1=\"261\" x2=\"-33\" y2=\"215\" />\n",
       "\n",
       "  <line x1=\"77\" y1=\"261\" x2=\"-22\" y2=\"194\" />\n",
       "\n",
       "  <line x1=\"77\" y1=\"261\" x2=\"-7\" y2=\"176\" />\n",
       "\n",
       "  <line x1=\"77\" y1=\"261\" x2=\"10\" y2=\"161\" />\n",
       "\n",
       "  <line x1=\"77\" y1=\"261\" x2=\"31\" y2=\"150\" />\n",
       "\n",
       "  <line x1=\"77\" y1=\"261\" x2=\"54\" y2=\"143\" />\n",
       "\n",
       "  <line x1=\"77\" y1=\"261\" x2=\"77\" y2=\"141\" />\n",
       "\n",
       "  <line x1=\"77\" y1=\"261\" x2=\"100\" y2=\"143\" />\n",
       "\n",
       "  <line x1=\"77\" y1=\"261\" x2=\"123\" y2=\"150\" />\n",
       "\n",
       "  <line x1=\"77\" y1=\"261\" x2=\"144\" y2=\"161\" />\n",
       "\n",
       "  <line x1=\"77\" y1=\"261\" x2=\"162\" y2=\"176\" />\n",
       "\n",
       "  <line x1=\"77\" y1=\"261\" x2=\"177\" y2=\"194\" />\n",
       "\n",
       "  <line x1=\"77\" y1=\"261\" x2=\"188\" y2=\"215\" />\n",
       "\n",
       "  <line x1=\"77\" y1=\"261\" x2=\"195\" y2=\"237\" />\n",
       "\n",
       "  <circle cx=\"497\" cy=\"104\" r=\"10\"\n",
       "\n",
       "          style=\"fill:red;\" />\n",
       "\n",
       "  <circle cx=\"180\" cy=\"333\" r=\"10\"\n",
       "\n",
       "          style=\"fill:red;\" />\n",
       "\n",
       "  <circle cx=\"385\" cy=\"357\" r=\"10\"\n",
       "\n",
       "          style=\"fill:red;\" />\n",
       "\n",
       "  <circle cx=\"585\" cy=\"474\" r=\"10\"\n",
       "\n",
       "          style=\"fill:red;\" />\n",
       "\n",
       "  <circle cx=\"512\" cy=\"445\" r=\"10\"\n",
       "\n",
       "          style=\"fill:red;\" />\n",
       "\n",
       "  <circle cx=\"30\" cy=\"494\" r=\"10\"\n",
       "\n",
       "          style=\"fill:red;\" />\n",
       "\n",
       "  <circle cx=\"374\" cy=\"170\" r=\"10\"\n",
       "\n",
       "          style=\"fill:red;\" />\n",
       "\n",
       "  <circle cx=\"493\" cy=\"86\" r=\"10\"\n",
       "\n",
       "          style=\"fill:red;\" />\n",
       "\n",
       "  <circle cx=\"689\" cy=\"284\" r=\"10\"\n",
       "\n",
       "          style=\"fill:red;\" />\n",
       "\n",
       "  <circle cx=\"226\" cy=\"413\" r=\"10\"\n",
       "\n",
       "          style=\"fill:red;\" />\n",
       "\n",
       "  <circle cx=\"242\" cy=\"298\" r=\"10\"\n",
       "\n",
       "          style=\"fill:red;\" />\n",
       "\n",
       "  <circle cx=\"344\" cy=\"473\" r=\"10\"\n",
       "\n",
       "          style=\"fill:red;\" />\n",
       "\n",
       "  <circle cx=\"255\" cy=\"392\" r=\"10\"\n",
       "\n",
       "          style=\"fill:red;\" />\n",
       "\n",
       "  <circle cx=\"688\" cy=\"440\" r=\"10\"\n",
       "\n",
       "          style=\"fill:red;\" />\n",
       "\n",
       "  <circle cx=\"474\" cy=\"467\" r=\"10\"\n",
       "\n",
       "          style=\"fill:red;\" />\n",
       "\n",
       "  <circle cx=\"35\" cy=\"65\" r=\"10\"\n",
       "\n",
       "          style=\"fill:red;\" />\n",
       "\n",
       "  <circle cx=\"22\" cy=\"273\" r=\"10\"\n",
       "\n",
       "          style=\"fill:red;\" />\n",
       "\n",
       "  <circle cx=\"247\" cy=\"191\" r=\"10\"\n",
       "\n",
       "          style=\"fill:red;\" />\n",
       "\n",
       "  <circle cx=\"356\" cy=\"91\" r=\"10\"\n",
       "\n",
       "          style=\"fill:red;\" />\n",
       "\n",
       "  <circle cx=\"475\" cy=\"181\" r=\"10\"\n",
       "\n",
       "          style=\"fill:red;\" />\n",
       "\n",
       "  <circle cx=\"450\" cy=\"285\" r=\"10\"\n",
       "\n",
       "          style=\"fill:red;\" />\n",
       "\n",
       "  <circle cx=\"593\" cy=\"247\" r=\"10\"\n",
       "\n",
       "          style=\"fill:red;\" />\n",
       "\n",
       "  <circle cx=\"47\" cy=\"421\" r=\"10\"\n",
       "\n",
       "          style=\"fill:green;\" />\n",
       "\n",
       "  <circle cx=\"454\" cy=\"340\" r=\"10\"\n",
       "\n",
       "          style=\"fill:green;\" />\n",
       "\n",
       "  <circle cx=\"278\" cy=\"344\" r=\"10\"\n",
       "\n",
       "          style=\"fill:green;\" />\n",
       "\n",
       "  <circle cx=\"421\" cy=\"82\" r=\"10\"\n",
       "\n",
       "          style=\"fill:green;\" />\n",
       "\n",
       "  <circle cx=\"677\" cy=\"362\" r=\"10\"\n",
       "\n",
       "          style=\"fill:green;\" />\n",
       "\n",
       "  <circle cx=\"491\" cy=\"254\" r=\"10\"\n",
       "\n",
       "          style=\"fill:green;\" />\n",
       "\n",
       "  <circle cx=\"359\" cy=\"326\" r=\"10\"\n",
       "\n",
       "          style=\"fill:green;\" />\n",
       "\n",
       "  <circle cx=\"144\" cy=\"129\" r=\"10\"\n",
       "\n",
       "          style=\"fill:green;\" />\n",
       "\n",
       "  <circle cx=\"278\" cy=\"250\" r=\"10\"\n",
       "\n",
       "          style=\"fill:green;\" />\n",
       "\n",
       "  <circle cx=\"656\" cy=\"421\" r=\"10\"\n",
       "\n",
       "          style=\"fill:green;\" />\n",
       "\n",
       "  <circle cx=\"170\" cy=\"361\" r=\"10\"\n",
       "\n",
       "          style=\"fill:green;\" />\n",
       "\n",
       "  <circle cx=\"527\" cy=\"402\" r=\"10\"\n",
       "\n",
       "          style=\"fill:green;\" />\n",
       "\n",
       "  <circle cx=\"656\" cy=\"29\" r=\"10\"\n",
       "\n",
       "          style=\"fill:green;\" />\n",
       "\n",
       "  <circle cx=\"532\" cy=\"164\" r=\"10\"\n",
       "\n",
       "          style=\"fill:green;\" />\n",
       "\n",
       "  <circle cx=\"160\" cy=\"409\" r=\"10\"\n",
       "\n",
       "          style=\"fill:green;\" />\n",
       "\n",
       "  <circle cx=\"167\" cy=\"239\" r=\"10\"\n",
       "\n",
       "          style=\"fill:green;\" />\n",
       "\n",
       "  <circle cx=\"184\" cy=\"125\" r=\"10\"\n",
       "\n",
       "          style=\"fill:green;\" />\n",
       "\n",
       "  <circle cx=\"515\" cy=\"428\" r=\"10\"\n",
       "\n",
       "          style=\"fill:green;\" />\n",
       "\n",
       "  <circle cx=\"99\" cy=\"350\" r=\"10\"\n",
       "\n",
       "          style=\"fill:green;\" />\n",
       "\n",
       "  <circle cx=\"390\" cy=\"359\" r=\"10\"\n",
       "\n",
       "          style=\"fill:orange;\" />\n",
       "\n",
       "  <circle cx=\"611\" cy=\"126\" r=\"10\"\n",
       "\n",
       "          style=\"fill:orange;\" />\n",
       "\n",
       "  <circle cx=\"126\" cy=\"265\" r=\"10\"\n",
       "\n",
       "          style=\"fill:orange;\" />\n",
       "\n",
       "  <circle cx=\"682\" cy=\"452\" r=\"10\"\n",
       "\n",
       "          style=\"fill:red;\" />\n",
       "\n",
       "  <circle cx=\"428\" cy=\"190\" r=\"10\"\n",
       "\n",
       "          style=\"fill:green;\" />\n",
       "\n",
       "  <circle cx=\"446\" cy=\"96\" r=\"10\"\n",
       "\n",
       "          style=\"fill:green;\" />\n",
       "\n",
       "  <circle cx=\"641\" cy=\"274\" r=\"10\"\n",
       "\n",
       "          style=\"fill:red;\" />\n",
       "\n",
       "  <circle cx=\"607\" cy=\"64\" r=\"10\"\n",
       "\n",
       "          style=\"fill:orange;\" />\n",
       "\n",
       "  <circle cx=\"660\" cy=\"330\" r=\"10\"\n",
       "\n",
       "          style=\"fill:green;\" />\n",
       "\n",
       "  <circle cx=\"89\" cy=\"409\" r=\"10\"\n",
       "\n",
       "          style=\"fill:red;\" />\n",
       "\n",
       "  <circle cx=\"253\" cy=\"78\" r=\"10\"\n",
       "\n",
       "          style=\"fill:green;\" />\n",
       "\n",
       "  <circle cx=\"410\" cy=\"465\" r=\"10\"\n",
       "\n",
       "          style=\"fill:green;\" />\n",
       "\n",
       "  <circle cx=\"543\" cy=\"337\" r=\"10\"\n",
       "\n",
       "          style=\"fill:orange;\" />\n",
       "\n",
       "  <circle cx=\"531\" cy=\"452\" r=\"10\"\n",
       "\n",
       "          style=\"fill:green;\" />\n",
       "\n",
       "  <circle cx=\"77\" cy=\"261\" r=\"10\"\n",
       "\n",
       "          style=\"fill:yellow;\" />\n",
       "\n",
       "  <text x=\"10\" y=\"535\" font-size=\"15\">\n",
       "\n",
       "   nearest wall = 57.5\n",
       "\n",
       "  </text>\n",
       "\n",
       "  <text x=\"10\" y=\"555\" font-size=\"15\">\n",
       "\n",
       "   reward       = -0.0\n",
       "\n",
       "  </text>\n",
       "\n",
       "  <text x=\"10\" y=\"575\" font-size=\"15\">\n",
       "\n",
       "   objects eaten => enemy: 3, friend: 6, boss: 2\n",
       "\n",
       "  </text>\n",
       "\n",
       " </g>\n",
       "</svg>\n"
      ],
      "text/plain": [
       "<tf_rl.utils.svg.Scene instance at 0x7f4284777fc8>"
      ]
     },
     "execution_count": 8,
     "metadata": {},
     "output_type": "execute_result"
    }
   ],
   "source": [
    "g.__class__ = KarpathyGame\n",
    "np.set_printoptions(formatter={'float': (lambda x: '%.2f' % (x,))})\n",
    "x = g.observe()\n",
    "new_shape = (x[:-2].shape[0]//g.eye_observation_size, g.eye_observation_size)\n",
    "print(x[:-2].reshape(new_shape))\n",
    "print(x[-2:])\n",
    "g.to_html()"
   ]
  },
  {
   "cell_type": "code",
   "execution_count": null,
   "metadata": {
    "collapsed": true
   },
   "outputs": [],
   "source": [
    ""
   ]
  }
 ],
 "metadata": {
  "kernelspec": {
   "display_name": "Python 3",
   "language": "python",
   "name": "python3"
  },
  "language_info": {
   "codemirror_mode": {
    "name": "ipython",
    "version": 3.0
   },
   "file_extension": ".py",
   "mimetype": "text/x-python",
   "name": "python",
   "nbconvert_exporter": "python",
   "pygments_lexer": "ipython3",
   "version": "3.4.3"
  }
 },
 "nbformat": 4,
 "nbformat_minor": 0
}